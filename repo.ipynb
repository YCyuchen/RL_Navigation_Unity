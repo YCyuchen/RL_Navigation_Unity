{
 "cells": [
  {
   "cell_type": "code",
   "execution_count": 4,
   "metadata": {},
   "outputs": [],
   "source": [
    "from torchsummary import summary\n",
    "import torch\n",
    "from collections import deque\n",
    "from unityagents import UnityEnvironment\n",
    "import numpy as np\n",
    "from dqn_agent import Agent\n",
    "from model import QNetwork"
   ]
  },
  {
   "cell_type": "markdown",
   "metadata": {},
   "source": [
    "# Question for banana navigation"
   ]
  },
  {
   "cell_type": "markdown",
   "metadata": {},
   "source": [
    "i have Several questions when i read the code. I listed them below.\n",
    "\n",
    "Q1:why we need two model in dqn_agent:qnetwork_target & qnetwork_local; how is soft_update function work?\n",
    "\n",
    "Q2:why loss is calculated by the mean square difference of Q_expected, Q_targets?  \n",
    "     from my understanding, Q_expected calculate the reward of current selected action and Q_targets calculate the reward of current and next state, which is similar to [TD controlis](https://classroom.udacity.com/nanodegrees/nd893/parts/8f607726-757e-4ef5-8b64-f2368755b89a/modules/a85374fa-6a60-425b-a480-85b211c5bd5d/lessons/78acdf66-f45c-418b-bbe1-30fda9e42c8c/concepts/b861cc26-d9fc-48f4-97bd-5b5aade565f9), is that means we want the current action reward approximately equal to the final reward of this episode?\n",
    "     \n",
    "Q3:can i regard the Q_value: **Q(St,At)** as the reward value? \n"
   ]
  },
  {
   "cell_type": "markdown",
   "metadata": {},
   "source": [
    "# Deep Q-learning Network for banana navigation"
   ]
  },
  {
   "cell_type": "markdown",
   "metadata": {},
   "source": [
    "***In this project, the goal of the agent is to collect yellow banana and avoid blue banana.***\n",
    "\n",
    "Given a state as a vector in length=37(containing the agent's velocity, along with ray-based perception of objects around agent's forward direction), the agent are expected to select the action that bring biggest **current** reward.  \n",
    "Although the state is discrete and not very large(37), sampling the states will influence the performance. Thus, DQN is sellected as the method for this project.\n",
    "\n",
    "**how dose DQN work?**  \n",
    "- feed forward  \n",
    "> taking a state value as input, the feed-forward QNetwork(in this project, a three layers' fully connected network) output the values on all actions. the action is selected with epsilon-greedy method. With probability $\\epsilon$ the agent randomly selected an action, and with prob (1- $\\epsilon$), the agent select the action with maxium output value. \n",
    "\n",
    "- back propagation\n",
    "> loss is calculated by the mean square difference of Q_expected, Q_targets. Q_expected is the network's value of the selected action while Q_targets is the reward of current action plus the Q_targets_next with discount rate $\\gamma$. I haven't totally understand why we doing this..., so i left some place here.\n",
    "\n",
    "- hyprer parameters\n",
    ">  epsilon-greedy: $\\epsilon$ is decreaing with the increase of epoch, which means the agent tend to be more confinent of the action with the maxium value \n",
    "\n",
    "\n"
   ]
  },
  {
   "cell_type": "markdown",
   "metadata": {},
   "source": [
    "# Visualize the layer of the model and the curve while training"
   ]
  },
  {
   "cell_type": "code",
   "execution_count": 13,
   "metadata": {},
   "outputs": [
    {
     "name": "stdout",
     "output_type": "stream",
     "text": [
      "----------------------------------------------------------------\n",
      "        Layer (type)               Output Shape         Param #\n",
      "================================================================\n",
      "            Linear-1                  [-1, 128]           4,864\n",
      "            Linear-2                   [-1, 64]           8,256\n",
      "            Linear-3                    [-1, 4]             260\n",
      "================================================================\n",
      "Total params: 13,380\n",
      "Trainable params: 13,380\n",
      "Non-trainable params: 0\n",
      "----------------------------------------------------------------\n",
      "Input size (MB): 0.00\n",
      "Forward/backward pass size (MB): 0.00\n",
      "Params size (MB): 0.05\n",
      "Estimated Total Size (MB): 0.05\n",
      "----------------------------------------------------------------\n"
     ]
    }
   ],
   "source": [
    "state_size = 37\n",
    "action_size = 4\n",
    "seed = 0\n",
    "model = QNetwork(state_size, action_size, seed)\n",
    "summary(model, input_size=(37,))"
   ]
  },
  {
   "cell_type": "markdown",
   "metadata": {},
   "source": [
    "## here we plot the episode-reward curve durning training"
   ]
  },
  {
   "cell_type": "markdown",
   "metadata": {},
   "source": [
    "![Aaron Swartz](https://raw.githubusercontent.com/YCyuchen/RL_Navigation_Unity/master/score-episode-curve.png)"
   ]
  },
  {
   "cell_type": "code",
   "execution_count": null,
   "metadata": {},
   "outputs": [],
   "source": []
  }
 ],
 "metadata": {
  "kernelspec": {
   "display_name": "Python 3",
   "language": "python",
   "name": "python3"
  },
  "language_info": {
   "codemirror_mode": {
    "name": "ipython",
    "version": 3
   },
   "file_extension": ".py",
   "mimetype": "text/x-python",
   "name": "python",
   "nbconvert_exporter": "python",
   "pygments_lexer": "ipython3",
   "version": "3.6.5"
  }
 },
 "nbformat": 4,
 "nbformat_minor": 2
}
